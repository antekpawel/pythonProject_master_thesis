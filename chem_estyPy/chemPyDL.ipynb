{
 "cells": [
  {
   "cell_type": "markdown",
   "metadata": {},
   "source": [
    "## Load Packages"
   ]
  },
  {
   "cell_type": "code",
   "execution_count": 1,
   "metadata": {},
   "outputs": [],
   "source": [
    "import warnings\n",
    "warnings.filterwarnings('ignore')\n",
    "import pandas as pd\n",
    "from keras.metrics import AUC\n",
    "from keras.models import Sequential\n",
    "from keras.layers import Dense\n",
    "from keras.wrappers.scikit_learn import KerasClassifier\n",
    "from keras.utils import np_utils\n",
    "from sklearn.model_selection import cross_val_score\n",
    "from sklearn.model_selection import KFold\n",
    "from sklearn.preprocessing import LabelEncoder\n",
    "from sklearn.pipeline import Pipeline\n",
    "import tensorflow as tf\n",
    "from sklearn.metrics import roc_auc_score"
   ]
  },
  {
   "cell_type": "markdown",
   "metadata": {},
   "source": [
    "## Load Data "
   ]
  },
  {
   "cell_type": "code",
   "execution_count": 2,
   "metadata": {},
   "outputs": [
    {
     "name": "stdout",
     "output_type": "stream",
     "text": [
      "<class 'pandas.core.frame.DataFrame'>\n",
      "Int64Index: 135250 entries, 0 to 157653\n",
      "Data columns (total 13 columns):\n",
      " #   Column           Non-Null Count   Dtype  \n",
      "---  ------           --------------   -----  \n",
      " 0   temperature      135250 non-null  float64\n",
      " 1   pressure         135250 non-null  float64\n",
      " 2   density          135250 non-null  float64\n",
      " 3   internal_energy  135250 non-null  float64\n",
      " 4   enthalpy         135250 non-null  float64\n",
      " 5   entropy          135250 non-null  float64\n",
      " 6   cv               135250 non-null  float64\n",
      " 7   cp               135250 non-null  float64\n",
      " 8   sound_spd        135250 non-null  float64\n",
      " 9   joule_thomson    135250 non-null  float64\n",
      " 10  viscosity        135250 non-null  float64\n",
      " 11  therm_cond       135250 non-null  float64\n",
      " 12  fluid            135250 non-null  object \n",
      "dtypes: float64(12), object(1)\n",
      "memory usage: 14.4+ MB\n"
     ]
    },
    {
     "data": {
      "text/html": [
       "<div>\n",
       "<style scoped>\n",
       "    .dataframe tbody tr th:only-of-type {\n",
       "        vertical-align: middle;\n",
       "    }\n",
       "\n",
       "    .dataframe tbody tr th {\n",
       "        vertical-align: top;\n",
       "    }\n",
       "\n",
       "    .dataframe thead th {\n",
       "        text-align: right;\n",
       "    }\n",
       "</style>\n",
       "<table border=\"1\" class=\"dataframe\">\n",
       "  <thead>\n",
       "    <tr style=\"text-align: right;\">\n",
       "      <th></th>\n",
       "      <th>temperature</th>\n",
       "      <th>pressure</th>\n",
       "      <th>density</th>\n",
       "      <th>internal_energy</th>\n",
       "      <th>enthalpy</th>\n",
       "      <th>entropy</th>\n",
       "      <th>cv</th>\n",
       "      <th>cp</th>\n",
       "      <th>sound_spd</th>\n",
       "      <th>joule_thomson</th>\n",
       "      <th>viscosity</th>\n",
       "      <th>therm_cond</th>\n",
       "      <th>fluid</th>\n",
       "    </tr>\n",
       "  </thead>\n",
       "  <tbody>\n",
       "    <tr>\n",
       "      <th>0</th>\n",
       "      <td>273.16</td>\n",
       "      <td>1.0</td>\n",
       "      <td>999.84</td>\n",
       "      <td>0.000033</td>\n",
       "      <td>0.001835</td>\n",
       "      <td>0.000121</td>\n",
       "      <td>75.970</td>\n",
       "      <td>76.014</td>\n",
       "      <td>1402.4</td>\n",
       "      <td>-0.024141</td>\n",
       "      <td>0.001791</td>\n",
       "      <td>0.56109</td>\n",
       "      <td>Water</td>\n",
       "    </tr>\n",
       "    <tr>\n",
       "      <th>1</th>\n",
       "      <td>273.33</td>\n",
       "      <td>1.0</td>\n",
       "      <td>999.85</td>\n",
       "      <td>0.012701</td>\n",
       "      <td>0.014503</td>\n",
       "      <td>0.046483</td>\n",
       "      <td>75.963</td>\n",
       "      <td>76.004</td>\n",
       "      <td>1403.3</td>\n",
       "      <td>-0.024125</td>\n",
       "      <td>0.001781</td>\n",
       "      <td>0.56141</td>\n",
       "      <td>Water</td>\n",
       "    </tr>\n",
       "    <tr>\n",
       "      <th>2</th>\n",
       "      <td>273.49</td>\n",
       "      <td>1.0</td>\n",
       "      <td>999.86</td>\n",
       "      <td>0.025368</td>\n",
       "      <td>0.027170</td>\n",
       "      <td>0.092811</td>\n",
       "      <td>75.957</td>\n",
       "      <td>75.993</td>\n",
       "      <td>1404.1</td>\n",
       "      <td>-0.024109</td>\n",
       "      <td>0.001770</td>\n",
       "      <td>0.56173</td>\n",
       "      <td>Water</td>\n",
       "    </tr>\n",
       "    <tr>\n",
       "      <th>3</th>\n",
       "      <td>273.66</td>\n",
       "      <td>1.0</td>\n",
       "      <td>999.87</td>\n",
       "      <td>0.038033</td>\n",
       "      <td>0.039834</td>\n",
       "      <td>0.139100</td>\n",
       "      <td>75.950</td>\n",
       "      <td>75.983</td>\n",
       "      <td>1404.9</td>\n",
       "      <td>-0.024092</td>\n",
       "      <td>0.001760</td>\n",
       "      <td>0.56204</td>\n",
       "      <td>Water</td>\n",
       "    </tr>\n",
       "    <tr>\n",
       "      <th>4</th>\n",
       "      <td>273.83</td>\n",
       "      <td>1.0</td>\n",
       "      <td>999.88</td>\n",
       "      <td>0.050696</td>\n",
       "      <td>0.052497</td>\n",
       "      <td>0.185360</td>\n",
       "      <td>75.943</td>\n",
       "      <td>75.973</td>\n",
       "      <td>1405.8</td>\n",
       "      <td>-0.024076</td>\n",
       "      <td>0.001750</td>\n",
       "      <td>0.56236</td>\n",
       "      <td>Water</td>\n",
       "    </tr>\n",
       "  </tbody>\n",
       "</table>\n",
       "</div>"
      ],
      "text/plain": [
       "   temperature  pressure  density  internal_energy  enthalpy   entropy  \\\n",
       "0       273.16       1.0   999.84         0.000033  0.001835  0.000121   \n",
       "1       273.33       1.0   999.85         0.012701  0.014503  0.046483   \n",
       "2       273.49       1.0   999.86         0.025368  0.027170  0.092811   \n",
       "3       273.66       1.0   999.87         0.038033  0.039834  0.139100   \n",
       "4       273.83       1.0   999.88         0.050696  0.052497  0.185360   \n",
       "\n",
       "       cv      cp  sound_spd  joule_thomson  viscosity  therm_cond   fluid  \n",
       "0  75.970  76.014     1402.4      -0.024141   0.001791     0.56109   Water  \n",
       "1  75.963  76.004     1403.3      -0.024125   0.001781     0.56141   Water  \n",
       "2  75.957  75.993     1404.1      -0.024109   0.001770     0.56173   Water  \n",
       "3  75.950  75.983     1404.9      -0.024092   0.001760     0.56204   Water  \n",
       "4  75.943  75.973     1405.8      -0.024076   0.001750     0.56236   Water  "
      ]
     },
     "execution_count": 2,
     "metadata": {},
     "output_type": "execute_result"
    }
   ],
   "source": [
    "databank = pd.read_csv('data.csv',low_memory=False, index_col=0)\n",
    "databank.columns = databank.columns.str.lower()\n",
    "databank.columns = databank.columns.str.rsplit('(', n=1).str.get(0)\n",
    "databank.columns = databank.columns.str.replace(\" \", \"_\")\n",
    "databank.columns = databank.columns.str.replace(\"\\\\.\", \"\")\n",
    "databank.columns = databank.columns.str.replace(\"-\", \"_\")\n",
    "databank.columns = databank.columns.str.rstrip('_')\n",
    "##\n",
    "databank = databank.drop(['phase'], axis=1)\n",
    "databank['viscosity'] = pd.to_numeric(databank['viscosity'],errors = 'coerce')\n",
    "databank['therm_cond'] = pd.to_numeric(databank['therm_cond'],errors = 'coerce')\n",
    "##\n",
    "databank.isnull().sum().sum()\n",
    "databank = databank.dropna()\n",
    "databank.info()\n",
    "databank.head()"
   ]
  },
  {
   "cell_type": "code",
   "execution_count": 3,
   "metadata": {},
   "outputs": [],
   "source": [
    "Y = databank['fluid']\n",
    "X = databank.drop(labels='fluid', axis=1)\n",
    "encoder = LabelEncoder()\n",
    "encoder.fit(Y)\n",
    "encoded_Y = encoder.transform(Y)\n",
    "dummy_y = np_utils.to_categorical(encoded_Y)"
   ]
  },
  {
   "cell_type": "markdown",
   "metadata": {},
   "source": [
    "## SGD"
   ]
  },
  {
   "cell_type": "code",
   "execution_count": 4,
   "metadata": {},
   "outputs": [],
   "source": [
    "def SGD_model():\n",
    "    # create model\n",
    "    model = Sequential()\n",
    "    model.add(Dense(2, input_dim=12, activation='relu'))\n",
    "    model.add(Dense(5, activation='softmax'))\n",
    "    # Compile model\n",
    "    model.compile(loss='categorical_crossentropy', optimizer='SGD', metrics=['accuracy'])\n",
    "    return model"
   ]
  },
  {
   "cell_type": "code",
   "execution_count": null,
   "metadata": {},
   "outputs": [],
   "source": [
    "estimator = KerasClassifier(build_fn=SGD_model, epochs=200, batch_size=5, verbose=0)\n",
    "kfold = KFold(n_splits=5, shuffle=True)\n",
    "results = cross_val_score(estimator, X, dummy_y, cv=kfold)\n",
    "print(\"SGD: %.2f%% (%.2f%%)\" % (results.mean()*100, results.std()*100))"
   ]
  },
  {
   "cell_type": "markdown",
   "metadata": {},
   "source": [
    "## RMSprop"
   ]
  },
  {
   "cell_type": "code",
   "execution_count": null,
   "metadata": {},
   "outputs": [],
   "source": [
    "def RMSprop_model():\n",
    "    # create model\n",
    "    model = Sequential()\n",
    "    model.add(Dense(2, input_dim=12, activation='relu'))\n",
    "    model.add(Dense(5, activation='softmax'))\n",
    "    # Compile model\n",
    "    model.compile(loss='categorical_crossentropy', optimizer='RMSprop', metrics=['accuracy'])\n",
    "    return model"
   ]
  },
  {
   "cell_type": "code",
   "execution_count": null,
   "metadata": {},
   "outputs": [],
   "source": [
    "estimator = KerasClassifier(build_fn=RMSprop_model, epochs=200, batch_size=5, verbose=0)\n",
    "kfold = KFold(n_splits=5, shuffle=True)\n",
    "results = cross_val_score(estimator, X, dummy_y, cv=kfold)\n",
    "print(\"RMSprop: %.2f%% (%.2f%%)\" % (results.mean()*100, results.std()*100))"
   ]
  },
  {
   "cell_type": "markdown",
   "metadata": {},
   "source": [
    "## Optimizer"
   ]
  },
  {
   "cell_type": "code",
   "execution_count": null,
   "metadata": {},
   "outputs": [],
   "source": [
    "def Optimizer_model():\n",
    "    # create model\n",
    "    model = Sequential()\n",
    "    model.add(Dense(2, input_dim=12, activation='relu'))\n",
    "    model.add(Dense(5, activation='softmax'))\n",
    "    # Compile model\n",
    "    model.compile(loss='categorical_crossentropy', optimizer='Optimizer', metrics=['accuracy'])\n",
    "    return model"
   ]
  },
  {
   "cell_type": "code",
   "execution_count": null,
   "metadata": {},
   "outputs": [],
   "source": [
    "estimator = KerasClassifier(build_fn=Optimizer_model, epochs=200, batch_size=5, verbose=0)\n",
    "kfold = KFold(n_splits=5, shuffle=True)\n",
    "results = cross_val_score(estimator, X, dummy_y, cv=kfold)\n",
    "print(\"Optimizer: %.2f%% (%.2f%%)\" % (results.mean()*100, results.std()*100))"
   ]
  },
  {
   "cell_type": "markdown",
   "metadata": {},
   "source": [
    "## Nadam"
   ]
  },
  {
   "cell_type": "code",
   "execution_count": null,
   "metadata": {},
   "outputs": [],
   "source": [
    "def Nadam_model():\n",
    "    # create model\n",
    "    model = Sequential()\n",
    "    model.add(Dense(2, input_dim=12, activation='relu'))\n",
    "    model.add(Dense(5, activation='softmax'))\n",
    "    # Compile model\n",
    "    model.compile(loss='categorical_crossentropy', optimizer='Nadam', metrics=['accuracy'])\n",
    "    return model"
   ]
  },
  {
   "cell_type": "code",
   "execution_count": null,
   "metadata": {},
   "outputs": [],
   "source": [
    "estimator = KerasClassifier(build_fn=Nadam_model, epochs=200, batch_size=5, verbose=0)\n",
    "kfold = KFold(n_splits=5, shuffle=True)\n",
    "results = cross_val_score(estimator, X, dummy_y, cv=kfold)\n",
    "print(\"Nadam: %.2f%% (%.2f%%)\" % (results.mean()*100, results.std()*100))"
   ]
  },
  {
   "cell_type": "markdown",
   "metadata": {},
   "source": [
    "## Adamax"
   ]
  },
  {
   "cell_type": "code",
   "execution_count": null,
   "metadata": {},
   "outputs": [],
   "source": [
    "def Adamax_model():\n",
    "    # create model\n",
    "    model = Sequential()\n",
    "    model.add(Dense(2, input_dim=12, activation='relu'))\n",
    "    model.add(Dense(5, activation='softmax'))\n",
    "    # Compile model\n",
    "    model.compile(loss='categorical_crossentropy', optimizer='Adamax', metrics=['accuracy'])\n",
    "    return model"
   ]
  },
  {
   "cell_type": "code",
   "execution_count": null,
   "metadata": {},
   "outputs": [],
   "source": [
    "estimator = KerasClassifier(build_fn=Adamax_model, epochs=200, batch_size=5, verbose=0)\n",
    "kfold = KFold(n_splits=5, shuffle=True)\n",
    "results = cross_val_score(estimator, X, dummy_y, cv=kfold)\n",
    "print(\"Adamax: %.2f%% (%.2f%%)\" % (results.mean()*100, results.std()*100))"
   ]
  },
  {
   "cell_type": "markdown",
   "metadata": {},
   "source": [
    "## Ftrl"
   ]
  },
  {
   "cell_type": "code",
   "execution_count": null,
   "metadata": {},
   "outputs": [],
   "source": [
    "def Ftrl_model():\n",
    "    # create model\n",
    "    model = Sequential()\n",
    "    model.add(Dense(2, input_dim=12, activation='relu'))\n",
    "    model.add(Dense(5, activation='softmax'))\n",
    "    # Compile model\n",
    "    model.compile(loss='categorical_crossentropy', optimizer='Ftrl', metrics=['accuracy'])\n",
    "    return model"
   ]
  },
  {
   "cell_type": "code",
   "execution_count": null,
   "metadata": {},
   "outputs": [],
   "source": [
    "estimator = KerasClassifier(build_fn=Ftrl_model, epochs=200, batch_size=5, verbose=0)\n",
    "kfold = KFold(n_splits=5, shuffle=True)\n",
    "results = cross_val_score(estimator, X, dummy_y, cv=kfold)\n",
    "print(\"Ftrl: %.2f%% (%.2f%%)\" % (results.mean()*100, results.std()*100))"
   ]
  },
  {
   "cell_type": "markdown",
   "metadata": {},
   "source": [
    "## Adagrad"
   ]
  },
  {
   "cell_type": "code",
   "execution_count": null,
   "metadata": {},
   "outputs": [],
   "source": [
    "def Adagrad_model():\n",
    "    # create model\n",
    "    model = Sequential()\n",
    "    model.add(Dense(2, input_dim=12, activation='relu'))\n",
    "    model.add(Dense(5, activation='softmax'))\n",
    "    # Compile model\n",
    "    model.compile(loss='categorical_crossentropy', optimizer='Adagrad', metrics=['accuracy'])\n",
    "    return model"
   ]
  },
  {
   "cell_type": "code",
   "execution_count": null,
   "metadata": {},
   "outputs": [],
   "source": [
    "estimator = KerasClassifier(build_fn=Adagrad_model, epochs=200, batch_size=5, verbose=0)\n",
    "kfold = KFold(n_splits=5, shuffle=True)\n",
    "results = cross_val_score(estimator, X, dummy_y, cv=kfold)\n",
    "print(\"Adagrad: %.2f%% (%.2f%%)\" % (results.mean()*100, results.std()*100))"
   ]
  },
  {
   "cell_type": "markdown",
   "metadata": {},
   "source": [
    "## Adam"
   ]
  },
  {
   "cell_type": "code",
   "execution_count": null,
   "metadata": {},
   "outputs": [],
   "source": [
    "def Adam_model():\n",
    "    # create model\n",
    "    model = Sequential()\n",
    "    model.add(Dense(2, input_dim=12, activation='relu'))\n",
    "    model.add(Dense(5, activation='softmax'))\n",
    "    # Compile model\n",
    "    model.compile(loss='categorical_crossentropy', optimizer='Adam', metrics=['accuracy'])\n",
    "    return model"
   ]
  },
  {
   "cell_type": "code",
   "execution_count": null,
   "metadata": {},
   "outputs": [],
   "source": [
    "estimator = KerasClassifier(build_fn=Adam_model, epochs=200, batch_size=5, verbose=0)\n",
    "kfold = KFold(n_splits=5, shuffle=True)\n",
    "results = cross_val_score(estimator, X, dummy_y, cv=kfold)\n",
    "print(\"Adam: %.2f%% (%.2f%%)\" % (results.mean()*100, results.std()*100))"
   ]
  },
  {
   "cell_type": "markdown",
   "metadata": {},
   "source": [
    "## Adadelta"
   ]
  },
  {
   "cell_type": "code",
   "execution_count": null,
   "metadata": {},
   "outputs": [],
   "source": [
    "def Adadelta_model():\n",
    "    # create model\n",
    "    model = Sequential()\n",
    "    model.add(Dense(2, input_dim=12, activation='relu'))\n",
    "    model.add(Dense(5, activation='softmax'))\n",
    "    # Compile model\n",
    "    model.compile(loss='categorical_crossentropy', optimizer='Adadelta', metrics=['accuracy'])\n",
    "    return model"
   ]
  },
  {
   "cell_type": "code",
   "execution_count": null,
   "metadata": {},
   "outputs": [],
   "source": [
    "estimator = KerasClassifier(build_fn=Adadelta_model, epochs=200, batch_size=5, verbose=0)\n",
    "kfold = KFold(n_splits=5, shuffle=True)\n",
    "results = cross_val_score(estimator, X, dummy_y, cv=kfold)\n",
    "print(\"Adadelta: %.2f%% (%.2f%%)\" % (results.mean()*100, results.std()*100))"
   ]
  }
 ],
 "metadata": {
  "kernelspec": {
   "display_name": "Python 3",
   "language": "python",
   "name": "python3"
  },
  "language_info": {
   "codemirror_mode": {
    "name": "ipython",
    "version": 3
   },
   "file_extension": ".py",
   "mimetype": "text/x-python",
   "name": "python",
   "nbconvert_exporter": "python",
   "pygments_lexer": "ipython3",
   "version": "3.8.5"
  }
 },
 "nbformat": 4,
 "nbformat_minor": 4
}
